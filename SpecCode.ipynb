{
 "cells": [
  {
   "cell_type": "code",
   "execution_count": null,
   "metadata": {},
   "outputs": [],
   "source": [
    "#Save code just outside the directory of songs \n",
    "from platform import system\n",
    "import os\n",
    "import matplotlib.pyplot as plt\n",
    "import numpy as np\n",
    "import pandas as pd\n",
    "import IPython.display\n",
    "import librosa\n",
    "import librosa.display\n",
    "#import pylab\n",
    "\n",
    "#import pandas as pd\n",
    "\n"
   ]
  },
  {
   "cell_type": "code",
   "execution_count": null,
   "metadata": {},
   "outputs": [],
   "source": [
    "directory = \"000\" \n",
    "if(system()==\"Linux\"):\n",
    "    slash = \"/\"\n",
    "else:\n",
    "    slash = \"\\\\\"\n",
    "\n",
    "for i,filename in enumerate(os.listdir(directory)):\n",
    "#     if i==2:\n",
    "#         break\n",
    "    y, sr = librosa.load(directory+slash+filename)\n",
    "    M = librosa.feature.melspectrogram(y=y)\n",
    "    savefile = directory+slash+filename[:6]+\".png\"\n",
    "    librosa.display.specshow(librosa.power_to_db(M, ref=np.max), y_axis='mel', x_axis='time')        \n",
    "    plt.axis(\"off\")\n",
    "    plt.savefig(savefile, bbox_inches=\"tight\", pad_inches=0) #Need to check parameters"
   ]
  },
  {
   "cell_type": "code",
   "execution_count": null,
   "metadata": {},
   "outputs": [],
   "source": []
  }
 ],
 "metadata": {
  "kernelspec": {
   "display_name": "Python 3",
   "language": "python",
   "name": "python3"
  },
  "language_info": {
   "codemirror_mode": {
    "name": "ipython",
    "version": 3
   },
   "file_extension": ".py",
   "mimetype": "text/x-python",
   "name": "python",
   "nbconvert_exporter": "python",
   "pygments_lexer": "ipython3",
   "version": "3.6.6"
  }
 },
 "nbformat": 4,
 "nbformat_minor": 2
}
