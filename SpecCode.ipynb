{
 "cells": [
  {
   "cell_type": "code",
   "execution_count": 12,
   "metadata": {},
   "outputs": [],
   "source": [
    "#Save code just outside the directory of songs \n",
    "import matplotlib.pyplot as plt\n",
    "import librosa.display\n",
    "import pylab\n",
    "import numpy as np\n",
    "import pandas as pd\n",
    "import librosa\n",
    "import os"
   ]
  },
  {
   "cell_type": "code",
   "execution_count": 3,
   "metadata": {},
   "outputs": [],
   "source": [
    "directory = \"Enter directory here without the slash\" \n",
    "slash = \"for windows enter \\ for linux keep /\";\n",
    "for i,filename in os.listdir(directory):\n",
    "    y, sr = librosa.load(filename)\n",
    "    M = librosa.feature.melspectrogram(y=y)\n",
    "    savefile = directory+slash+filename[:6]+\".png\"\n",
    "    librosa.display.specshow(librosa.power_to_db(M, ref=np.max),\n",
    "                         y_axis='mel', x_axis='time') #no need to probably do this: Have to check        \n",
    "    #need to probably define pyplot to save the plots: need to check\n",
    "    pylab.savefig(save_path, bbox_inches=None, pad_inches=0) #Need to check parameters"
   ]
  },
  {
   "cell_type": "code",
   "execution_count": null,
   "metadata": {},
   "outputs": [],
   "source": []
  }
 ],
 "metadata": {
  "kernelspec": {
   "display_name": "Python 3",
   "language": "python",
   "name": "python3"
  },
  "language_info": {
   "codemirror_mode": {
    "name": "ipython",
    "version": 3
   },
   "file_extension": ".py",
   "mimetype": "text/x-python",
   "name": "python",
   "nbconvert_exporter": "python",
   "pygments_lexer": "ipython3",
   "version": "3.6.6"
  }
 },
 "nbformat": 4,
 "nbformat_minor": 2
}
