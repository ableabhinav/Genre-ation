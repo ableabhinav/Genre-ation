{
 "cells": [
  {
   "cell_type": "code",
   "execution_count": 4,
   "metadata": {},
   "outputs": [],
   "source": [
    "import pandas as pd\n",
    "import numpy as np\n",
    "import IPython.display as ipd\n",
    "import os\n",
    "import shutil\n",
    "from platform import system"
   ]
  },
  {
   "cell_type": "code",
   "execution_count": null,
   "metadata": {},
   "outputs": [],
   "source": [
    "genres = pd.read_csv(\"genres.csv\")\n",
    "tracks = pd.read_csv(\"tracks.csv\")"
   ]
  },
  {
   "cell_type": "code",
   "execution_count": null,
   "metadata": {},
   "outputs": [],
   "source": [
    "genres.loc[genres['top_level'].unique()].sort_values('#tracks', ascending=False)"
   ]
  },
  {
   "cell_type": "code",
   "execution_count": 3,
   "metadata": {},
   "outputs": [
    {
     "ename": "NameError",
     "evalue": "name 'tracks' is not defined",
     "output_type": "error",
     "traceback": [
      "\u001b[0;31m---------------------------------------------------------------------------\u001b[0m",
      "\u001b[0;31mNameError\u001b[0m                                 Traceback (most recent call last)",
      "\u001b[0;32m<ipython-input-3-1d1f5e37781c>\u001b[0m in \u001b[0;36m<module>\u001b[0;34m\u001b[0m\n\u001b[0;32m----> 1\u001b[0;31m \u001b[0mtracks_t\u001b[0m \u001b[0;34m=\u001b[0m \u001b[0mtracks\u001b[0m\u001b[0;34m.\u001b[0m\u001b[0mset_index\u001b[0m\u001b[0;34m(\u001b[0m\u001b[0;34m\"track_id\"\u001b[0m\u001b[0;34m)\u001b[0m\u001b[0;34m\u001b[0m\u001b[0m\n\u001b[0m\u001b[1;32m      2\u001b[0m \u001b[0mtracks_t\u001b[0m\u001b[0;34m\u001b[0m\u001b[0m\n",
      "\u001b[0;31mNameError\u001b[0m: name 'tracks' is not defined"
     ]
    }
   ],
   "source": [
    "tracks_t = tracks.set_index(\"track_id\")\n",
    "tracks_t"
   ]
  },
  {
   "cell_type": "code",
   "execution_count": 15,
   "metadata": {},
   "outputs": [
    {
     "name": "stdout",
     "output_type": "stream",
     "text": [
      "sample 000010.mp3\n",
      "0 10\n",
      "Pop\n",
      "sample 000213.mp3\n",
      "1 213\n",
      "Pop\n",
      "sample 000821.mp3\n",
      "2 821\n",
      "Pop\n",
      "sample 000822.mp3\n",
      "3 822\n",
      "Pop\n",
      "sample 001642.mp3\n",
      "4 1642\n",
      "Pop\n",
      "sample 001644.mp3\n",
      "5 1644\n",
      "Pop\n",
      "sample 001649.mp3\n",
      "6 1649\n",
      "Pop\n",
      "sample 001661.mp3\n",
      "7 1661\n",
      "Pop\n",
      "sample 001663.mp3\n",
      "8 1663\n",
      "Pop\n"
     ]
    }
   ],
   "source": [
    "# import eyed3\n",
    "if(system()==\"Linux\"):\n",
    "    slash = \"/\"\n",
    "else:\n",
    "    slash = \"\\\\\"\n",
    "\n",
    "work_dir = os.getcwd()\n",
    "print(work_dir)\n",
    "for i,dirname in enumerate(os.listdir(work_dir)):\n",
    "    if(i==0):\n",
    "        continue\n",
    "    if(i==157):\n",
    "        break\n",
    "    for j,filename in enumerate(os.listdir(dirname)):\n",
    "        print(dirname, filename)\n",
    "        filename1=filename.lstrip(\"0\")\n",
    "        filename1=filename1[:-1].strip(\".mp\")\n",
    "        print(j,filename1)\n",
    "        genre_top = tracks_t.loc[filename1][9] # finds top level genre of the song\n",
    "        print(genre_top)\n",
    "        print(------------------------)\n",
    "        if(type(genre_top)==float):\n",
    "            continue\n",
    "        k = j+1\n",
    "        if os.path.isdir(genre_top)==True:\n",
    "            shutil.move(os.path.join(dirname, filename), genre_top+slash+genre_top+\"_\"+str(k)+\".mp3\")\n",
    "        else:\n",
    "            os.mkdir(genre_top)\n",
    "            shutil.move(os.path.join(dirname, filename), genre_top+slash+genre_top+\"_\"+str(k)+\".mp3\")\n",
    "\n",
    "    # Got the genre of the file. Need to add condition to continue/skip this file if genGenre fails     \n",
    "\n"
   ]
  },
  {
   "cell_type": "code",
   "execution_count": null,
   "metadata": {},
   "outputs": [],
   "source": []
  }
 ],
 "metadata": {
  "kernelspec": {
   "display_name": "Python 3",
   "language": "python",
   "name": "python3"
  },
  "language_info": {
   "codemirror_mode": {
    "name": "ipython",
    "version": 3
   },
   "file_extension": ".py",
   "mimetype": "text/x-python",
   "name": "python",
   "nbconvert_exporter": "python",
   "pygments_lexer": "ipython3",
   "version": "3.6.6"
  }
 },
 "nbformat": 4,
 "nbformat_minor": 2
}
