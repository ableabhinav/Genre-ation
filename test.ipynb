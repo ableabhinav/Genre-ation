{
 "cells": [
  {
   "cell_type": "code",
   "execution_count": null,
   "metadata": {},
   "outputs": [],
   "source": [
    "import pandas as pd\n",
    "import numpy as np\n",
    "import IPython.display as ipd\n",
    "import os\n",
    "import shutil"
   ]
  },
  {
   "cell_type": "code",
   "execution_count": null,
   "metadata": {},
   "outputs": [],
   "source": [
    "genres = pd.read_csv(\"genres.csv\")\n",
    "tracks = pd.read_csv(\"tracks.csv\")"
   ]
  },
  {
   "cell_type": "code",
   "execution_count": null,
   "metadata": {},
   "outputs": [],
   "source": [
    "genres.loc[genres['top_level'].unique()].sort_values('#tracks', ascending=False)"
   ]
  },
  {
   "cell_type": "code",
   "execution_count": null,
   "metadata": {},
   "outputs": [],
   "source": [
    "tracks_t = tracks.set_index(\"track_id\")\n",
    "tracks_t"
   ]
  },
  {
   "cell_type": "code",
   "execution_count": null,
   "metadata": {},
   "outputs": [],
   "source": [
    "# import eyed3\n",
    "work_dir = os.getcwd()\n",
    "# Working directory does not change even when enumerating/iterating in sub-directories\n",
    "# New directories creating in working directory only\n",
    "print(work_dir)\n",
    "for i,dirname in enumerate(os.listdir(work_dir)):\n",
    "    if(i==0):\n",
    "        continue\n",
    "    if(i==157):\n",
    "        break\n",
    "    for j,filename in enumerate(os.listdir(dirname)):\n",
    "        print(dirname, filename)\n",
    "        filename1=filename.lstrip(\"0\")\n",
    "        filename1=filename1[:-1].strip(\".mp\")\n",
    "        print(j,filename1)\n",
    "        genre_top = tracks_t.loc[filename1][9] #finds top level genre of the song\n",
    "        print(genre_top)\n",
    "        if(type(genre_top)==float):\n",
    "            continue\n",
    "        if os.path.isdir(genre_top)==True:\n",
    "            shutil.move(os.path.join(dirname, filename), genre_top) #folder there, directly move\n",
    "        else:\n",
    "            os.mkdir(genre_top)\n",
    "            shutil.move(os.path.join(dirname, filename), genre_top)\n",
    "    \n",
    "        # Got the genre of the file. Need to add condition to continue/skip this file if genGenre fails     \n",
    "            \n",
    "        "
   ]
  },
  {
   "cell_type": "code",
   "execution_count": null,
   "metadata": {},
   "outputs": [],
   "source": []
  }
 ],
 "metadata": {
  "kernelspec": {
   "display_name": "Python 3",
   "language": "python",
   "name": "python3"
  },
  "language_info": {
   "codemirror_mode": {
    "name": "ipython",
    "version": 3
   },
   "file_extension": ".py",
   "mimetype": "text/x-python",
   "name": "python",
   "nbconvert_exporter": "python",
   "pygments_lexer": "ipython3",
   "version": "3.6.5"
  }
 },
 "nbformat": 4,
 "nbformat_minor": 2
}
