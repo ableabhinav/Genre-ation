# -*- coding: utf-8 -*-
"""
Created on Thu Oct 25 16:06:39 2018

@author: Admin
"""

from keras.models import Sequential
from keras.layers import Conv2D
from keras.layers import MaxPooling2D
from keras.layers import Flatten
from keras.layers import Dense
from keras.layers.normalization import BatchNormalization
from keras import optimizers
from keras.layers import Activation, Dense
from keras.callbacks import ModelCheckpoint
from keras.layers import Dropout
import os
#from keras.optimizers import SGD



#create classifier 
classifier = Sequential()

#adding convolution layer
classifier.add(Conv2D(32, 3, 3, input_shape = (256, 256, 3)))
classifier.add(BatchNormalization())
classifier.add(Activation("relu"))

#adding pooling layer
classifier.add(MaxPooling2D(pool_size = (2,2), strides = (2,2)))
# model.add(Dropout(0.1))

#2nd layer
classifier.add(Conv2D(32, 3, 3))
classifier.add(BatchNormalization())
classifier.add(Activation("elu"))
classifier.add(MaxPooling2D(pool_size = (2,2), strides = (1,1)))

#3rd layer
#classifier.add(Convolution2D(64, 3, 3, activation = 'elu'))
#classifier.add(MaxPooling2D(pool_size = (2,2), strides = (2,2)))

#4th layer
#classifier.add(Convolution2D(512, 3, 3, activation = 'elu'))
#classifier.add(MaxPooling2D(pool_size = (2,2), stride = (2,2)))
#flattening
classifier.add(Flatten())

#Fully Connected layer
classifier.add(Dense(output_dim = 128))
classifier.add(BatchNormalization())
classifier.add(Activation('elu'))
classifier.add(Dropout(0.5))

classifier.add(Dense(output_dim = 7))
classifier.add(BatchNormalization())
classifier.add(Activation('softmax'))

#compiling
sgd = optimizers.SGD(lr=0.01, decay=1e-6, momentum=0.9, nesterov=True)
# SGD Stochastic gradient descent optimize
classifier.compile(optimizer = sgd, loss = 'categorical_crossentropy', metrics = ['accuracy'])
# also use optimizer as a 'adadelta'

#making Image size same
from keras.preprocessing.image import ImageDataGenerator
train_datagen = ImageDataGenerator(
        rescale=1./255,
        shear_range=0.2,
        zoom_range=0.2,
        horizontal_flip=True)

test_datagen = ImageDataGenerator(rescale=1./255)

training_set = train_datagen.flow_from_directory(
        'C:/Users/Admin/Documents/Genre/Project/Dataset/Train',
        target_size=(256, 256),
        batch_size=32,
        class_mode='categorical')

test_set = test_datagen.flow_from_directory(
        'C:/Users/Admin/Documents/Genre/Project/Dataset/Test',
        target_size=(256, 256),
        batch_size=32,
        class_mode='categorical')



#checking if already a weight file exists. if it does loads it into the model
if os.path.isfile("Genre.h5") :
		classifier.load_weights("Genre.h5")

#checkpoint saves the model.
filepath="Genre.h5"		
checkpoint1 = ModelCheckpoint(filepath, monitor='val_acc', verbose=1, save_best_only=True, mode='max')
	

classifier.fit_generator(
        training_set,
        steps_per_epoch=5600,
        epochs=15,
        validation_data=test_set,
        validation_steps=1397)

print(classifier.summary())
